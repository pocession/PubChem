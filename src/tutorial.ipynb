{
 "cells": [
  {
   "cell_type": "code",
   "execution_count": 3,
   "id": "a065dfb1",
   "metadata": {},
   "outputs": [
    {
     "name": "stdout",
     "output_type": "stream",
     "text": [
      "Processing batch 1 with 10 compounds...\n",
      "     CID Molecular Formula Molecular Weight  \\\n",
      "0   2244            C9H8O4           180.16   \n",
      "1   1234        C28H40N2O5            484.6   \n",
      "2   5678          C19H14O5            322.3   \n",
      "3  91011      C28H31ClN2O6            527.0   \n",
      "4   1213           C12H22O           182.30   \n",
      "5   1415          C20H32O4            336.5   \n",
      "6   1617          C6H4N2O6           200.11   \n",
      "7   1819       C11H13FNO4P           273.20   \n",
      "8   2021        C14H24N2O7           332.35   \n",
      "9   2223       C44H83NO7P+            769.1   \n",
      "\n",
      "                                    Canonical SMILES  \\\n",
      "0                           CC(=O)OC1=CC=CC=C1C(=O)O   \n",
      "1  CC(C)C(CCCN(C)CCC1=CC(=C(C=C1)OC)OC)(C#N)C2=CC...   \n",
      "2  COC(=O)C(=C1C(=O)C(C(=O)O1)C2=CC=CC=C2)C3=CC=C...   \n",
      "3  COC1=CC=CC=C1N2CCN(CC2)CCOC(C3=CC=CC=C3)C4=CC=...   \n",
      "4                              CC1CCCC2(C1(CCCC2)O)C   \n",
      "5                  CCCCCC=CCC(C=CC=CCC=CCCCC(=O)O)OO   \n",
      "6              C1=C(C=C(C(=O)C1=O)[N+](=O)[O-])N(O)O   \n",
      "7                C1=CC2=C(C=C1F)C(=CN2)CCCOP(=O)(O)O   \n",
      "8       CC1CC(=O)C2(C(O1)OC3C(C(C(C(C3O2)NC)O)NC)O)O   \n",
      "9  CCCCCCCCCCCCCCCCOCC(COP(=O)(O)OCC[N+](C)(C)C)O...   \n",
      "\n",
      "                      InChIKey  \n",
      "0  BSYNRYMUTXBXSQ-UHFFFAOYSA-N  \n",
      "1  XQLWNAFCTODIRK-UHFFFAOYSA-N  \n",
      "2  JOFTYVPERBCMPJ-UHFFFAOYSA-N  \n",
      "3  FNCPSCUFEVHYTI-UHFFFAOYSA-N  \n",
      "4  JLPUXFOGCDVKGO-UHFFFAOYSA-N  \n",
      "5  ZIOZYRSDNLNNNJ-UHFFFAOYSA-N  \n",
      "6  SXYNIIXONDKDFQ-UHFFFAOYSA-N  \n",
      "7  YVYGGBFCYXRNKM-UHFFFAOYSA-N  \n",
      "8  UNFWWIHTNXNPBV-UHFFFAOYSA-N  \n",
      "9  DUUSFCFZBREELS-UHFFFAOYSA-O  \n"
     ]
    }
   ],
   "source": [
    "# Demonstrate how to get the basic information of compounds\n",
    "\n",
    "from pubchem_api import get_pubchem_data, save_to_dataframe, read_cids_from_csv\n",
    "import os\n",
    "# Path to the input CSV file\n",
    "wd = os.getcwd()\n",
    "input_csv_file = 'Example/cids.csv'\n",
    "input_csv_file = wd + '/../' + input_csv_file\n",
    "\n",
    "# Read CIDs from the CSV file\n",
    "cids = read_cids_from_csv(input_csv_file)\n",
    "data = get_pubchem_data(cids)\n",
    "df = save_to_dataframe(data)\n",
    "\n",
    "# Save the DataFrame to a CSV file (optional)\n",
    "wd = os.getcwd()\n",
    "output_csv_file = 'Example/pubchem_data.csv'\n",
    "output_csv_file = wd + '/../' + 'pubchem_data.csv'\n",
    "df.to_csv(output_csv_file, index=False)\n",
    "\n",
    "# Print the DataFrame\n",
    "print(df)\n"
   ]
  },
  {
   "cell_type": "code",
   "execution_count": null,
   "id": "1bb73c94",
   "metadata": {},
   "outputs": [],
   "source": []
  }
 ],
 "metadata": {
  "kernelspec": {
   "display_name": "Python 3 (ipykernel)",
   "language": "python",
   "name": "python3"
  },
  "language_info": {
   "codemirror_mode": {
    "name": "ipython",
    "version": 3
   },
   "file_extension": ".py",
   "mimetype": "text/x-python",
   "name": "python",
   "nbconvert_exporter": "python",
   "pygments_lexer": "ipython3",
   "version": "3.11.3"
  }
 },
 "nbformat": 4,
 "nbformat_minor": 5
}
