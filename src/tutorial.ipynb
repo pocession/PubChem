{
 "cells": [
  {
   "cell_type": "code",
   "execution_count": null,
   "id": "a065dfb1",
   "metadata": {},
   "outputs": [
    {
     "name": "stdout",
     "output_type": "stream",
     "text": [
      "Processing batch 1 with 1000 compounds...\n"
     ]
    }
   ],
   "source": [
    "# Demonstrate how to get the basic information of compounds\n",
    "\n",
    "from pubchem_api import get_pubchem_data, save_to_dataframe, read_cids_from_csv\n",
    "import os\n",
    "# Path to the input CSV file\n",
    "wd = os.getcwd()\n",
    "input_csv_file = 'Example/cids.csv'\n",
    "input_csv_file = wd + '/../' + input_csv_file\n",
    "\n",
    "# Read CIDs from the CSV file\n",
    "cids = read_cids_from_csv(input_csv_file)\n",
    "data = get_pubchem_data(cids)\n",
    "df = save_to_dataframe(data)\n",
    "\n",
    "# Save the DataFrame to a CSV file (optional)\n",
    "wd = os.getcwd()\n",
    "output_csv_file = 'Example/pubchem_data.csv'\n",
    "output_csv_file = wd + '/../' + 'pubchem_data.csv'\n",
    "df.to_csv(output_csv_file, index=False)\n",
    "\n",
    "# Print the DataFrame\n",
    "print(df)\n"
   ]
  },
  {
   "cell_type": "code",
   "execution_count": null,
   "id": "1bb73c94",
   "metadata": {},
   "outputs": [],
   "source": []
  }
 ],
 "metadata": {
  "kernelspec": {
   "display_name": "Python 3 (ipykernel)",
   "language": "python",
   "name": "python3"
  },
  "language_info": {
   "codemirror_mode": {
    "name": "ipython",
    "version": 3
   },
   "file_extension": ".py",
   "mimetype": "text/x-python",
   "name": "python",
   "nbconvert_exporter": "python",
   "pygments_lexer": "ipython3",
   "version": "3.11.3"
  }
 },
 "nbformat": 4,
 "nbformat_minor": 5
}
