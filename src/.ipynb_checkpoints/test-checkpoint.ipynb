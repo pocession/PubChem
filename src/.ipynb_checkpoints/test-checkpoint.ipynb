{
 "cells": [
  {
   "cell_type": "code",
   "execution_count": null,
   "id": "225f585d",
   "metadata": {},
   "outputs": [],
   "source": [
    "# This note book is to test the pubchem_api \n",
    "# Generate test data first\n",
    "\n",
    "from generate_test_data import generate_random_cid\n",
    "\n",
    "generate_random_cid(1020)"
   ]
  },
  {
   "cell_type": "code",
   "execution_count": null,
   "id": "28a91ec4",
   "metadata": {},
   "outputs": [],
   "source": [
    "# Demonstrate how to get the basic information of compounds\n",
    "\n",
    "from pubchem_api import get_pubchem_data, save_to_dataframe, read_cids_from_csv\n",
    "import os\n",
    "# Path to the input CSV file\n",
    "wd = os.getcwd()\n",
    "input_csv_file = 'Example/random_cids.csv'\n",
    "input_csv_file = wd + '/../' + input_csv_file\n",
    "\n",
    "# Read CIDs from the CSV file\n",
    "cids = read_cids_from_csv(input_csv_file)\n",
    "data = get_pubchem_data(cids)\n",
    "df = save_to_dataframe(data)\n",
    "\n",
    "# Save the DataFrame to a CSV file (optional)\n",
    "wd = os.getcwd()\n",
    "output_csv_file = 'Example/pubchem_data.csv'\n",
    "output_csv_file = wd + '/../' + 'pubchem_data.csv'\n",
    "df.to_csv(output_csv_file, index=False)\n",
    "\n",
    "# Print the DataFrame\n",
    "print(df)"
   ]
  }
 ],
 "metadata": {
  "kernelspec": {
   "display_name": "Python 3 (ipykernel)",
   "language": "python",
   "name": "python3"
  },
  "language_info": {
   "codemirror_mode": {
    "name": "ipython",
    "version": 3
   },
   "file_extension": ".py",
   "mimetype": "text/x-python",
   "name": "python",
   "nbconvert_exporter": "python",
   "pygments_lexer": "ipython3",
   "version": "3.11.3"
  }
 },
 "nbformat": 4,
 "nbformat_minor": 5
}
